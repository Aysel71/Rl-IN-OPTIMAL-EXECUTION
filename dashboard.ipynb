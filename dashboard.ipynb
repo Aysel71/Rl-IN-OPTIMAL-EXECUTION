{
 "cells": [
  {
   "cell_type": "code",
   "execution_count": 1,
   "id": "d152d553",
   "metadata": {
    "execution": {
     "iopub.execute_input": "2024-06-18T10:26:44.584979Z",
     "iopub.status.busy": "2024-06-18T10:26:44.584560Z",
     "iopub.status.idle": "2024-06-18T10:27:04.854145Z",
     "shell.execute_reply": "2024-06-18T10:27:04.852584Z"
    },
    "papermill": {
     "duration": 20.285265,
     "end_time": "2024-06-18T10:27:04.857700",
     "exception": false,
     "start_time": "2024-06-18T10:26:44.572435",
     "status": "completed"
    },
    "tags": []
   },
   "outputs": [],
   "source": [
    "!pip install -q streamlit"
   ]
  },
  {
   "cell_type": "code",
   "execution_count": 2,
   "id": "2ce2b3ca",
   "metadata": {
    "execution": {
     "iopub.execute_input": "2024-06-18T10:27:04.881234Z",
     "iopub.status.busy": "2024-06-18T10:27:04.880760Z",
     "iopub.status.idle": "2024-06-18T10:27:07.649521Z",
     "shell.execute_reply": "2024-06-18T10:27:07.648164Z"
    },
    "papermill": {
     "duration": 2.784307,
     "end_time": "2024-06-18T10:27:07.652525",
     "exception": false,
     "start_time": "2024-06-18T10:27:04.868218",
     "status": "completed"
    },
    "tags": []
   },
   "outputs": [
    {
     "name": "stdout",
     "output_type": "stream",
     "text": [
      "--2024-06-18 10:27:05--  https://bin.equinox.io/c/4VmDzA7iaHb/ngrok-stable-linux-amd64.zip\r\n",
      "Resolving bin.equinox.io (bin.equinox.io)... 18.205.222.128, 54.161.241.46, 54.237.133.81, ...\r\n",
      "Connecting to bin.equinox.io (bin.equinox.io)|18.205.222.128|:443... connected.\r\n",
      "HTTP request sent, awaiting response... 200 OK\r\n",
      "Length: 13921656 (13M) [application/octet-stream]\r\n",
      "Saving to: 'ngrok-stable-linux-amd64.zip'\r\n",
      "\r\n",
      "ngrok-stable-linux- 100%[===================>]  13.28M  19.4MB/s    in 0.7s    \r\n",
      "\r\n",
      "2024-06-18 10:27:07 (19.4 MB/s) - 'ngrok-stable-linux-amd64.zip' saved [13921656/13921656]\r\n",
      "\r\n"
     ]
    }
   ],
   "source": [
    "!wget https://bin.equinox.io/c/4VmDzA7iaHb/ngrok-stable-linux-amd64.zip"
   ]
  },
  {
   "cell_type": "code",
   "execution_count": 3,
   "id": "7916b9cf",
   "metadata": {
    "execution": {
     "iopub.execute_input": "2024-06-18T10:27:07.676214Z",
     "iopub.status.busy": "2024-06-18T10:27:07.675714Z",
     "iopub.status.idle": "2024-06-18T10:27:09.084887Z",
     "shell.execute_reply": "2024-06-18T10:27:09.083464Z"
    },
    "papermill": {
     "duration": 1.424316,
     "end_time": "2024-06-18T10:27:09.087755",
     "exception": false,
     "start_time": "2024-06-18T10:27:07.663439",
     "status": "completed"
    },
    "tags": []
   },
   "outputs": [
    {
     "name": "stdout",
     "output_type": "stream",
     "text": [
      "Archive:  ngrok-stable-linux-amd64.zip\r\n",
      "  inflating: ngrok                   \r\n"
     ]
    }
   ],
   "source": [
    "!unzip ngrok-stable-linux-amd64.zip"
   ]
  },
  {
   "cell_type": "code",
   "execution_count": 4,
   "id": "df594d6c",
   "metadata": {
    "execution": {
     "iopub.execute_input": "2024-06-18T10:27:09.113613Z",
     "iopub.status.busy": "2024-06-18T10:27:09.113133Z",
     "iopub.status.idle": "2024-06-18T10:27:10.392562Z",
     "shell.execute_reply": "2024-06-18T10:27:10.391042Z"
    },
    "papermill": {
     "duration": 1.295675,
     "end_time": "2024-06-18T10:27:10.395545",
     "exception": false,
     "start_time": "2024-06-18T10:27:09.099870",
     "status": "completed"
    },
    "tags": []
   },
   "outputs": [
    {
     "name": "stdout",
     "output_type": "stream",
     "text": [
      "--2024-06-18 10:27:10--  https://raw.githubusercontent.com/ahmedshahriar/eda_basketball/main/eda_basketball.py\r\n",
      "Resolving raw.githubusercontent.com (raw.githubusercontent.com)... 185.199.111.133, 185.199.109.133, 185.199.108.133, ...\r\n",
      "Connecting to raw.githubusercontent.com (raw.githubusercontent.com)|185.199.111.133|:443... connected.\r\n",
      "HTTP request sent, awaiting response... 200 OK\r\n",
      "Length: 3503 (3.4K) [text/plain]\r\n",
      "Saving to: 'eda_basketball.py'\r\n",
      "\r\n",
      "eda_basketball.py   100%[===================>]   3.42K  --.-KB/s    in 0s      \r\n",
      "\r\n",
      "2024-06-18 10:27:10 (29.2 MB/s) - 'eda_basketball.py' saved [3503/3503]\r\n",
      "\r\n"
     ]
    }
   ],
   "source": [
    "# download your streamlit file(s)\n",
    "# an example\n",
    "!wget https://raw.githubusercontent.com/ahmedshahriar/eda_basketball/main/eda_basketball.py"
   ]
  },
  {
   "cell_type": "code",
   "execution_count": 5,
   "id": "9a6ce155",
   "metadata": {
    "_cell_guid": "b1076dfc-b9ad-4769-8c92-a6c4dae69d19",
    "_uuid": "8f2839f25d086af736a60e9eeb907d3b93b6e0e5",
    "execution": {
     "iopub.execute_input": "2024-06-18T10:27:10.422016Z",
     "iopub.status.busy": "2024-06-18T10:27:10.421526Z",
     "iopub.status.idle": "2024-06-18T10:27:13.104663Z",
     "shell.execute_reply": "2024-06-18T10:27:13.103232Z"
    },
    "papermill": {
     "duration": 2.699464,
     "end_time": "2024-06-18T10:27:13.107951",
     "exception": false,
     "start_time": "2024-06-18T10:27:10.408487",
     "status": "completed"
    },
    "tags": []
   },
   "outputs": [
    {
     "name": "stdout",
     "output_type": "stream",
     "text": [
      "/kaggle/input/eqqerff/preprocessed.csv\n"
     ]
    }
   ],
   "source": [
    "# This Python 3 environment comes with many helpful analytics libraries installed\n",
    "# It is defined by the kaggle/python Docker image: https://github.com/kaggle/docker-python\n",
    "# For example, here's several helpful packages to load\n",
    "\n",
    "import numpy as np # linear algebra\n",
    "import pandas as pd # data processing, CSV file I/O (e.g. pd.read_csv)\n",
    "\n",
    "# Input data files are available in the read-only \"../input/\" directory\n",
    "# For example, running this (by clicking run or pressing Shift+Enter) will list all files under the input directory\n",
    "\n",
    "import matplotlib.pyplot as plt\n",
    "import seaborn as sns\n",
    "import plotly.graph_objects as go\n",
    "\n",
    "\n",
    "import os\n",
    "for dirname, _, filenames in os.walk('/kaggle/input'):\n",
    "    for filename in filenames:\n",
    "        print(os.path.join(dirname, filename))\n",
    "\n",
    "# You can write up to 20GB to the current directory (/kaggle/working/) that gets preserved as output when you create a version using \"Save & Run All\" \n",
    "# You can also write temporary files to /kaggle/temp/, but they won't be saved outside of the current session"
   ]
  },
  {
   "cell_type": "code",
   "execution_count": 6,
   "id": "5960d321",
   "metadata": {
    "execution": {
     "iopub.execute_input": "2024-06-18T10:27:13.135182Z",
     "iopub.status.busy": "2024-06-18T10:27:13.134605Z",
     "iopub.status.idle": "2024-06-18T10:27:13.143068Z",
     "shell.execute_reply": "2024-06-18T10:27:13.141594Z"
    },
    "papermill": {
     "duration": 0.026463,
     "end_time": "2024-06-18T10:27:13.146840",
     "exception": false,
     "start_time": "2024-06-18T10:27:13.120377",
     "status": "completed"
    },
    "tags": []
   },
   "outputs": [],
   "source": [
    "get_ipython().system_raw('./ngrok http 8501 &')"
   ]
  },
  {
   "cell_type": "code",
   "execution_count": 7,
   "id": "fba36117",
   "metadata": {
    "execution": {
     "iopub.execute_input": "2024-06-18T10:27:13.177429Z",
     "iopub.status.busy": "2024-06-18T10:27:13.176965Z",
     "iopub.status.idle": "2024-06-18T10:27:14.441828Z",
     "shell.execute_reply": "2024-06-18T10:27:14.439938Z"
    },
    "papermill": {
     "duration": 1.284285,
     "end_time": "2024-06-18T10:27:14.444880",
     "exception": false,
     "start_time": "2024-06-18T10:27:13.160595",
     "status": "completed"
    },
    "tags": []
   },
   "outputs": [
    {
     "name": "stdout",
     "output_type": "stream",
     "text": [
      "Usage of ngrok requires a verified account and authtoken.\n",
      "\n",
      "Sign up for an account: https://dashboard.ngrok.com/signup\n",
      "Install your authtoken: https://dashboard.ngrok.com/get-started/your-authtoken\r\n",
      "\r\n",
      "ERR_NGROK_4018\r\n",
      "\n",
      "Traceback (most recent call last):\r\n",
      "  File \"<string>\", line 1, in <module>\r\n",
      "  File \"/opt/conda/lib/python3.10/json/__init__.py\", line 293, in load\r\n",
      "    return loads(fp.read(),\r\n",
      "  File \"/opt/conda/lib/python3.10/json/__init__.py\", line 346, in loads\r\n",
      "    return _default_decoder.decode(s)\r\n",
      "  File \"/opt/conda/lib/python3.10/json/decoder.py\", line 337, in decode\r\n",
      "    obj, end = self.raw_decode(s, idx=_w(s, 0).end())\r\n",
      "  File \"/opt/conda/lib/python3.10/json/decoder.py\", line 355, in raw_decode\r\n",
      "    raise JSONDecodeError(\"Expecting value\", s, err.value) from None\r\n",
      "json.decoder.JSONDecodeError: Expecting value: line 1 column 1 (char 0)\r\n"
     ]
    }
   ],
   "source": [
    "!curl -s http://localhost:4040/api/tunnels | python3 -c \\\n",
    "    'import sys, json; print(\"Execute the next cell and the go to the following URL: \" +json.load(sys.stdin)[\"tunnels\"][0][\"public_url\"])'"
   ]
  },
  {
   "cell_type": "code",
   "execution_count": 8,
   "id": "d7ba05ae",
   "metadata": {
    "execution": {
     "iopub.execute_input": "2024-06-18T10:27:14.471427Z",
     "iopub.status.busy": "2024-06-18T10:27:14.470581Z",
     "iopub.status.idle": "2024-06-18T10:27:14.480978Z",
     "shell.execute_reply": "2024-06-18T10:27:14.479456Z"
    },
    "papermill": {
     "duration": 0.026574,
     "end_time": "2024-06-18T10:27:14.483902",
     "exception": false,
     "start_time": "2024-06-18T10:27:14.457328",
     "status": "completed"
    },
    "tags": []
   },
   "outputs": [
    {
     "name": "stdout",
     "output_type": "stream",
     "text": [
      "Writing my_app.py\n"
     ]
    }
   ],
   "source": [
    "%%writefile my_app.py\n",
    "import numpy as np # linear algebra\n",
    "import pandas as pd # data processing, CSV file I/O (e.g. pd.read_csv)\n",
    "import dash\n",
    "from dash import dcc, html, Input, Output\n",
    "import dash_bootstrap_components as dbc\n",
    "import pandas as pd\n",
    "import plotly.express as px\n",
    "import plotly.graph_objects as go\n"
   ]
  },
  {
   "cell_type": "code",
   "execution_count": 9,
   "id": "c528d588",
   "metadata": {
    "execution": {
     "iopub.execute_input": "2024-06-18T10:27:14.511979Z",
     "iopub.status.busy": "2024-06-18T10:27:14.511546Z",
     "iopub.status.idle": "2024-06-18T10:27:14.530267Z",
     "shell.execute_reply": "2024-06-18T10:27:14.528220Z"
    },
    "papermill": {
     "duration": 0.037425,
     "end_time": "2024-06-18T10:27:14.534432",
     "exception": false,
     "start_time": "2024-06-18T10:27:14.497007",
     "status": "completed"
    },
    "tags": []
   },
   "outputs": [
    {
     "name": "stdout",
     "output_type": "stream",
     "text": [
      "Deleting file: /kaggle/working/ngrok-stable-linux-amd64.zip\n",
      "Deleting file: /kaggle/working/__notebook__.ipynb\n",
      "Deleting file: /kaggle/working/my_app.py\n",
      "Deleting file: /kaggle/working/ngrok\n",
      "Deleting file: /kaggle/working/eda_basketball.py\n"
     ]
    }
   ],
   "source": [
    "import os\n",
    "\n",
    "path = \"/kaggle/working/\"\n",
    "for file_name in os.listdir(path):\n",
    "    file = path + file_name\n",
    "    if os.path.isfile(file):\n",
    "        print('Deleting file:', file)\n",
    "        os.remove(file)"
   ]
  },
  {
   "cell_type": "code",
   "execution_count": 10,
   "id": "06116801",
   "metadata": {
    "execution": {
     "iopub.execute_input": "2024-06-18T10:27:14.560384Z",
     "iopub.status.busy": "2024-06-18T10:27:14.559906Z",
     "iopub.status.idle": "2024-06-18T10:27:17.049418Z",
     "shell.execute_reply": "2024-06-18T10:27:17.047594Z"
    },
    "papermill": {
     "duration": 2.506357,
     "end_time": "2024-06-18T10:27:17.052647",
     "exception": false,
     "start_time": "2024-06-18T10:27:14.546290",
     "status": "completed"
    },
    "tags": []
   },
   "outputs": [],
   "source": [
    "!pip install --no-dependencies --quiet streamlit\n"
   ]
  },
  {
   "cell_type": "code",
   "execution_count": 11,
   "id": "1d343517",
   "metadata": {
    "execution": {
     "iopub.execute_input": "2024-06-18T10:27:17.079720Z",
     "iopub.status.busy": "2024-06-18T10:27:17.079271Z",
     "iopub.status.idle": "2024-06-18T10:27:20.785055Z",
     "shell.execute_reply": "2024-06-18T10:27:20.783540Z"
    },
    "papermill": {
     "duration": 3.722242,
     "end_time": "2024-06-18T10:27:20.788177",
     "exception": false,
     "start_time": "2024-06-18T10:27:17.065935",
     "status": "completed"
    },
    "tags": []
   },
   "outputs": [
    {
     "name": "stdout",
     "output_type": "stream",
     "text": [
      "--2024-06-18 10:27:18--  https://bin.equinox.io/c/4VmDzA7iaHb/ngrok-stable-linux-amd64.zip\r\n",
      "Resolving bin.equinox.io (bin.equinox.io)... 52.202.168.65, 54.161.241.46, 54.237.133.81, ...\r\n",
      "Connecting to bin.equinox.io (bin.equinox.io)|52.202.168.65|:443... connected.\r\n",
      "HTTP request sent, awaiting response... 200 OK\r\n",
      "Length: 13921656 (13M) [application/octet-stream]\r\n",
      "Saving to: 'ngrok-stable-linux-amd64.zip'\r\n",
      "\r\n",
      "ngrok-stable-linux- 100%[===================>]  13.28M  19.0MB/s    in 0.7s    \r\n",
      "\r\n",
      "2024-06-18 10:27:19 (19.0 MB/s) - 'ngrok-stable-linux-amd64.zip' saved [13921656/13921656]\r\n",
      "\r\n",
      "Archive:  ngrok-stable-linux-amd64.zip\r\n",
      "  inflating: ngrok                   \r\n"
     ]
    }
   ],
   "source": [
    "!wget https://bin.equinox.io/c/4VmDzA7iaHb/ngrok-stable-linux-amd64.zip\n",
    "\n",
    "!unzip -o ngrok-stable-linux-amd64.zip"
   ]
  },
  {
   "cell_type": "code",
   "execution_count": 12,
   "id": "5c977807",
   "metadata": {
    "execution": {
     "iopub.execute_input": "2024-06-18T10:27:20.817544Z",
     "iopub.status.busy": "2024-06-18T10:27:20.817028Z",
     "iopub.status.idle": "2024-06-18T10:27:33.998264Z",
     "shell.execute_reply": "2024-06-18T10:27:33.996514Z"
    },
    "papermill": {
     "duration": 13.199648,
     "end_time": "2024-06-18T10:27:34.001483",
     "exception": false,
     "start_time": "2024-06-18T10:27:20.801835",
     "status": "completed"
    },
    "tags": []
   },
   "outputs": [
    {
     "name": "stdout",
     "output_type": "stream",
     "text": [
      "deb https://ngrok-agent.s3.amazonaws.com buster main\r\n",
      "Get:1 https://ngrok-agent.s3.amazonaws.com buster InRelease [20.3 kB]\r\n",
      "Hit:2 http://archive.ubuntu.com/ubuntu focal InRelease\r\n",
      "Get:3 http://archive.ubuntu.com/ubuntu focal-updates InRelease [128 kB]\r\n",
      "Hit:4 https://packages.cloud.google.com/apt gcsfuse-focal InRelease\r\n",
      "Get:5 http://security.ubuntu.com/ubuntu focal-security InRelease [128 kB]\r\n",
      "Get:6 https://packages.cloud.google.com/apt cloud-sdk InRelease [1616 B]\r\n",
      "Get:7 https://ngrok-agent.s3.amazonaws.com buster/main amd64 Packages [4726 B]\r\n",
      "Hit:8 http://archive.ubuntu.com/ubuntu focal-backports InRelease\r\n",
      "Get:9 https://packages.cloud.google.com/apt cloud-sdk/main all Packages [1459 kB]\r\n",
      "Get:10 http://archive.ubuntu.com/ubuntu focal-updates/main amd64 Packages [4182 kB]\r\n",
      "Get:11 https://packages.cloud.google.com/apt cloud-sdk/main amd64 Packages [3035 kB]\r\n",
      "Get:12 http://security.ubuntu.com/ubuntu focal-security/universe amd64 Packages [1213 kB]\r\n",
      "Get:13 http://archive.ubuntu.com/ubuntu focal-updates/restricted amd64 Packages [3800 kB]\r\n",
      "Get:14 http://archive.ubuntu.com/ubuntu focal-updates/universe amd64 Packages [1511 kB]\r\n",
      "Get:15 http://security.ubuntu.com/ubuntu focal-security/main amd64 Packages [3710 kB]\r\n",
      "Get:16 http://security.ubuntu.com/ubuntu focal-security/restricted amd64 Packages [3651 kB]\r\n",
      "Fetched 22.8 MB in 3s (8186 kB/s)\r\n",
      "\r\n",
      "\r\n",
      "\r\n",
      "70 packages can be upgraded. Run 'apt list --upgradable' to see them.\r\n",
      "\r\n",
      "\r\n",
      "\r\n",
      "The following NEW packages will be installed:\r\n",
      "  ngrok\r\n",
      "0 upgraded, 1 newly installed, 0 to remove and 70 not upgraded.\r\n",
      "Need to get 6505 kB of archives.\r\n",
      "After this operation, 0 B of additional disk space will be used.\r\n",
      "Get:1 https://ngrok-agent.s3.amazonaws.com buster/main amd64 ngrok amd64 3.11.0 [6505 kB]\r\n",
      "Fetched 6505 kB in 0s (23.4 MB/s)\r\n",
      "\n",
      "\u001b7\u001b[0;23r\u001b8\u001b[1ASelecting previously unselected package ngrok.\r\n",
      "(Reading database ... 110195 files and directories currently installed.)\r\n",
      "Preparing to unpack .../ngrok_3.11.0_amd64.deb ...\r\n",
      "\u001b7\u001b[24;0f\u001b[42m\u001b[30mProgress: [  0%]\u001b[49m\u001b[39m [..........................................................] \u001b8\u001b7\u001b[24;0f\u001b[42m\u001b[30mProgress: [ 20%]\u001b[49m\u001b[39m [###########...............................................] \u001b8Unpacking ngrok (3.11.0) ...\r\n",
      "\u001b7\u001b[24;0f\u001b[42m\u001b[30mProgress: [ 40%]\u001b[49m\u001b[39m [#######################...................................] \u001b8Setting up ngrok (3.11.0) ...\r\n",
      "\u001b7\u001b[24;0f\u001b[42m\u001b[30mProgress: [ 60%]\u001b[49m\u001b[39m [##################################........................] \u001b8\u001b7\u001b[24;0f\u001b[42m\u001b[30mProgress: [ 80%]\u001b[49m\u001b[39m [##############################################............] \u001b8\r\n",
      "\u001b7\u001b[0;24r\u001b8\u001b[1A\u001b[J"
     ]
    }
   ],
   "source": [
    "!curl -s https://ngrok-agent.s3.amazonaws.com/ngrok.asc \\\n",
    "  | tee /etc/apt/trusted.gpg.d/ngrok.asc >/dev/null && echo \"deb https://ngrok-agent.s3.amazonaws.com buster main\" \\\n",
    "  | tee /etc/apt/sources.list.d/ngrok.list && sudo apt update && apt install ngrok"
   ]
  },
  {
   "cell_type": "code",
   "execution_count": 13,
   "id": "a3e44a9b",
   "metadata": {
    "execution": {
     "iopub.execute_input": "2024-06-18T10:27:34.044768Z",
     "iopub.status.busy": "2024-06-18T10:27:34.044289Z",
     "iopub.status.idle": "2024-06-18T10:27:49.894643Z",
     "shell.execute_reply": "2024-06-18T10:27:49.892924Z"
    },
    "papermill": {
     "duration": 15.875824,
     "end_time": "2024-06-18T10:27:49.897863",
     "exception": false,
     "start_time": "2024-06-18T10:27:34.022039",
     "status": "completed"
    },
    "tags": []
   },
   "outputs": [],
   "source": [
    "!pip install --quiet pyngrok"
   ]
  },
  {
   "cell_type": "code",
   "execution_count": 14,
   "id": "4a25ec4a",
   "metadata": {
    "execution": {
     "iopub.execute_input": "2024-06-18T10:27:49.941961Z",
     "iopub.status.busy": "2024-06-18T10:27:49.941486Z",
     "iopub.status.idle": "2024-06-18T10:27:52.337199Z",
     "shell.execute_reply": "2024-06-18T10:27:52.335510Z"
    },
    "papermill": {
     "duration": 2.421408,
     "end_time": "2024-06-18T10:27:52.340501",
     "exception": false,
     "start_time": "2024-06-18T10:27:49.919093",
     "status": "completed"
    },
    "tags": []
   },
   "outputs": [],
   "source": [
    "!pip install --no-dependencies --quiet protobuf==3.20.*   #==4.21.12"
   ]
  },
  {
   "cell_type": "code",
   "execution_count": 15,
   "id": "3ec97c8d",
   "metadata": {
    "execution": {
     "iopub.execute_input": "2024-06-18T10:27:52.384538Z",
     "iopub.status.busy": "2024-06-18T10:27:52.383573Z",
     "iopub.status.idle": "2024-06-18T10:27:55.058424Z",
     "shell.execute_reply": "2024-06-18T10:27:55.056935Z"
    },
    "papermill": {
     "duration": 2.700411,
     "end_time": "2024-06-18T10:27:55.061252",
     "exception": false,
     "start_time": "2024-06-18T10:27:52.360841",
     "status": "completed"
    },
    "tags": []
   },
   "outputs": [],
   "source": [
    "!pip install --no-dependencies --quiet validators"
   ]
  },
  {
   "cell_type": "code",
   "execution_count": 16,
   "id": "dc252f12",
   "metadata": {
    "execution": {
     "iopub.execute_input": "2024-06-18T10:27:55.104464Z",
     "iopub.status.busy": "2024-06-18T10:27:55.103993Z",
     "iopub.status.idle": "2024-06-18T10:27:57.524845Z",
     "shell.execute_reply": "2024-06-18T10:27:57.523186Z"
    },
    "papermill": {
     "duration": 2.446214,
     "end_time": "2024-06-18T10:27:57.527854",
     "exception": false,
     "start_time": "2024-06-18T10:27:55.081640",
     "status": "completed"
    },
    "tags": []
   },
   "outputs": [
    {
     "name": "stdout",
     "output_type": "stream",
     "text": [
      "Authtoken saved to configuration file: /root/.config/ngrok/ngrok.yml\r\n"
     ]
    }
   ],
   "source": [
    "!ngrok config add-authtoken 2DtbdPhiQfpW6sJwyFwyJDspW88_5FMhiwzLvwd1rKoJPFJ4v"
   ]
  },
  {
   "cell_type": "code",
   "execution_count": 17,
   "id": "6dd9b2cd",
   "metadata": {
    "execution": {
     "iopub.execute_input": "2024-06-18T10:27:57.574013Z",
     "iopub.status.busy": "2024-06-18T10:27:57.573347Z",
     "iopub.status.idle": "2024-06-18T10:27:58.890326Z",
     "shell.execute_reply": "2024-06-18T10:27:58.888839Z"
    },
    "papermill": {
     "duration": 1.344032,
     "end_time": "2024-06-18T10:27:58.893264",
     "exception": false,
     "start_time": "2024-06-18T10:27:57.549232",
     "status": "completed"
    },
    "tags": []
   },
   "outputs": [
    {
     "name": "stdout",
     "output_type": "stream",
     "text": [
      "Authtoken saved to configuration file: /root/.config/ngrok/ngrok.yml\r\n"
     ]
    }
   ],
   "source": [
    "!ngrok authtoken 2DtbdPhiQfpW6sJwyFwyJDspW88_5FMhiwzLvwd1rKoJPFJ4v\n"
   ]
  },
  {
   "cell_type": "code",
   "execution_count": 18,
   "id": "a000079f",
   "metadata": {
    "execution": {
     "iopub.execute_input": "2024-06-18T10:27:58.939889Z",
     "iopub.status.busy": "2024-06-18T10:27:58.939430Z",
     "iopub.status.idle": "2024-06-18T10:28:18.954437Z",
     "shell.execute_reply": "2024-06-18T10:28:18.952998Z"
    },
    "papermill": {
     "duration": 20.04229,
     "end_time": "2024-06-18T10:28:18.957784",
     "exception": false,
     "start_time": "2024-06-18T10:27:58.915494",
     "status": "completed"
    },
    "tags": []
   },
   "outputs": [
    {
     "name": "stdout",
     "output_type": "stream",
     "text": [
      "Collecting jupyter-dash\r\n",
      "  Downloading jupyter_dash-0.4.2-py3-none-any.whl.metadata (3.6 kB)\r\n",
      "Collecting dash (from jupyter-dash)\r\n",
      "  Downloading dash-2.17.1-py3-none-any.whl.metadata (10 kB)\r\n",
      "Requirement already satisfied: requests in /opt/conda/lib/python3.10/site-packages (from jupyter-dash) (2.32.3)\r\n",
      "Requirement already satisfied: flask in /opt/conda/lib/python3.10/site-packages (from jupyter-dash) (3.0.3)\r\n",
      "Requirement already satisfied: retrying in /opt/conda/lib/python3.10/site-packages (from jupyter-dash) (1.3.3)\r\n",
      "Requirement already satisfied: ipython in /opt/conda/lib/python3.10/site-packages (from jupyter-dash) (8.20.0)\r\n",
      "Requirement already satisfied: ipykernel in /opt/conda/lib/python3.10/site-packages (from jupyter-dash) (6.28.0)\r\n",
      "Collecting ansi2html (from jupyter-dash)\r\n",
      "  Downloading ansi2html-1.9.1-py3-none-any.whl.metadata (3.7 kB)\r\n",
      "Requirement already satisfied: nest-asyncio in /opt/conda/lib/python3.10/site-packages (from jupyter-dash) (1.5.8)\r\n",
      "Requirement already satisfied: Werkzeug<3.1 in /opt/conda/lib/python3.10/site-packages (from dash->jupyter-dash) (3.0.3)\r\n",
      "Requirement already satisfied: plotly>=5.0.0 in /opt/conda/lib/python3.10/site-packages (from dash->jupyter-dash) (5.18.0)\r\n",
      "Collecting dash-html-components==2.0.0 (from dash->jupyter-dash)\r\n",
      "  Downloading dash_html_components-2.0.0-py3-none-any.whl.metadata (3.8 kB)\r\n",
      "Collecting dash-core-components==2.0.0 (from dash->jupyter-dash)\r\n",
      "  Downloading dash_core_components-2.0.0-py3-none-any.whl.metadata (2.9 kB)\r\n",
      "Collecting dash-table==5.0.0 (from dash->jupyter-dash)\r\n",
      "  Downloading dash_table-5.0.0-py3-none-any.whl.metadata (2.4 kB)\r\n",
      "Requirement already satisfied: importlib-metadata in /opt/conda/lib/python3.10/site-packages (from dash->jupyter-dash) (6.11.0)\r\n",
      "Requirement already satisfied: typing-extensions>=4.1.1 in /opt/conda/lib/python3.10/site-packages (from dash->jupyter-dash) (4.9.0)\r\n",
      "Requirement already satisfied: setuptools in /opt/conda/lib/python3.10/site-packages (from dash->jupyter-dash) (69.0.3)\r\n",
      "Requirement already satisfied: Jinja2>=3.1.2 in /opt/conda/lib/python3.10/site-packages (from flask->jupyter-dash) (3.1.2)\r\n",
      "Requirement already satisfied: itsdangerous>=2.1.2 in /opt/conda/lib/python3.10/site-packages (from flask->jupyter-dash) (2.2.0)\r\n",
      "Requirement already satisfied: click>=8.1.3 in /opt/conda/lib/python3.10/site-packages (from flask->jupyter-dash) (8.1.7)\r\n",
      "Requirement already satisfied: blinker>=1.6.2 in /opt/conda/lib/python3.10/site-packages (from flask->jupyter-dash) (1.8.2)\r\n",
      "Requirement already satisfied: comm>=0.1.1 in /opt/conda/lib/python3.10/site-packages (from ipykernel->jupyter-dash) (0.2.1)\r\n",
      "Requirement already satisfied: debugpy>=1.6.5 in /opt/conda/lib/python3.10/site-packages (from ipykernel->jupyter-dash) (1.8.0)\r\n",
      "Requirement already satisfied: jupyter-client>=6.1.12 in /opt/conda/lib/python3.10/site-packages (from ipykernel->jupyter-dash) (7.4.9)\r\n",
      "Requirement already satisfied: jupyter-core!=5.0.*,>=4.12 in /opt/conda/lib/python3.10/site-packages (from ipykernel->jupyter-dash) (5.7.1)\r\n",
      "Requirement already satisfied: matplotlib-inline>=0.1 in /opt/conda/lib/python3.10/site-packages (from ipykernel->jupyter-dash) (0.1.6)\r\n",
      "Requirement already satisfied: packaging in /opt/conda/lib/python3.10/site-packages (from ipykernel->jupyter-dash) (21.3)\r\n",
      "Requirement already satisfied: psutil in /opt/conda/lib/python3.10/site-packages (from ipykernel->jupyter-dash) (5.9.3)\r\n",
      "Requirement already satisfied: pyzmq>=24 in /opt/conda/lib/python3.10/site-packages (from ipykernel->jupyter-dash) (24.0.1)\r\n",
      "Requirement already satisfied: tornado>=6.1 in /opt/conda/lib/python3.10/site-packages (from ipykernel->jupyter-dash) (6.3.3)\r\n",
      "Requirement already satisfied: traitlets>=5.4.0 in /opt/conda/lib/python3.10/site-packages (from ipykernel->jupyter-dash) (5.9.0)\r\n",
      "Requirement already satisfied: decorator in /opt/conda/lib/python3.10/site-packages (from ipython->jupyter-dash) (5.1.1)\r\n",
      "Requirement already satisfied: jedi>=0.16 in /opt/conda/lib/python3.10/site-packages (from ipython->jupyter-dash) (0.19.1)\r\n",
      "Requirement already satisfied: prompt-toolkit<3.1.0,>=3.0.41 in /opt/conda/lib/python3.10/site-packages (from ipython->jupyter-dash) (3.0.42)\r\n",
      "Requirement already satisfied: pygments>=2.4.0 in /opt/conda/lib/python3.10/site-packages (from ipython->jupyter-dash) (2.17.2)\r\n",
      "Requirement already satisfied: stack-data in /opt/conda/lib/python3.10/site-packages (from ipython->jupyter-dash) (0.6.2)\r\n",
      "Requirement already satisfied: exceptiongroup in /opt/conda/lib/python3.10/site-packages (from ipython->jupyter-dash) (1.2.0)\r\n",
      "Requirement already satisfied: pexpect>4.3 in /opt/conda/lib/python3.10/site-packages (from ipython->jupyter-dash) (4.8.0)\r\n",
      "Requirement already satisfied: charset-normalizer<4,>=2 in /opt/conda/lib/python3.10/site-packages (from requests->jupyter-dash) (3.3.2)\r\n",
      "Requirement already satisfied: idna<4,>=2.5 in /opt/conda/lib/python3.10/site-packages (from requests->jupyter-dash) (3.6)\r\n",
      "Requirement already satisfied: urllib3<3,>=1.21.1 in /opt/conda/lib/python3.10/site-packages (from requests->jupyter-dash) (1.26.18)\r\n",
      "Requirement already satisfied: certifi>=2017.4.17 in /opt/conda/lib/python3.10/site-packages (from requests->jupyter-dash) (2024.2.2)\r\n",
      "Requirement already satisfied: six>=1.7.0 in /opt/conda/lib/python3.10/site-packages (from retrying->jupyter-dash) (1.16.0)\r\n",
      "Requirement already satisfied: parso<0.9.0,>=0.8.3 in /opt/conda/lib/python3.10/site-packages (from jedi>=0.16->ipython->jupyter-dash) (0.8.3)\r\n",
      "Requirement already satisfied: MarkupSafe>=2.0 in /opt/conda/lib/python3.10/site-packages (from Jinja2>=3.1.2->flask->jupyter-dash) (2.1.3)\r\n",
      "Requirement already satisfied: entrypoints in /opt/conda/lib/python3.10/site-packages (from jupyter-client>=6.1.12->ipykernel->jupyter-dash) (0.4)\r\n",
      "Requirement already satisfied: python-dateutil>=2.8.2 in /opt/conda/lib/python3.10/site-packages (from jupyter-client>=6.1.12->ipykernel->jupyter-dash) (2.9.0.post0)\r\n",
      "Requirement already satisfied: platformdirs>=2.5 in /opt/conda/lib/python3.10/site-packages (from jupyter-core!=5.0.*,>=4.12->ipykernel->jupyter-dash) (3.11.0)\r\n",
      "Requirement already satisfied: ptyprocess>=0.5 in /opt/conda/lib/python3.10/site-packages (from pexpect>4.3->ipython->jupyter-dash) (0.7.0)\r\n",
      "Requirement already satisfied: tenacity>=6.2.0 in /opt/conda/lib/python3.10/site-packages (from plotly>=5.0.0->dash->jupyter-dash) (8.2.3)\r\n",
      "Requirement already satisfied: wcwidth in /opt/conda/lib/python3.10/site-packages (from prompt-toolkit<3.1.0,>=3.0.41->ipython->jupyter-dash) (0.2.13)\r\n",
      "Requirement already satisfied: zipp>=0.5 in /opt/conda/lib/python3.10/site-packages (from importlib-metadata->dash->jupyter-dash) (3.17.0)\r\n",
      "Requirement already satisfied: pyparsing!=3.0.5,>=2.0.2 in /opt/conda/lib/python3.10/site-packages (from packaging->ipykernel->jupyter-dash) (3.1.1)\r\n",
      "Requirement already satisfied: executing>=1.2.0 in /opt/conda/lib/python3.10/site-packages (from stack-data->ipython->jupyter-dash) (2.0.1)\r\n",
      "Requirement already satisfied: asttokens>=2.1.0 in /opt/conda/lib/python3.10/site-packages (from stack-data->ipython->jupyter-dash) (2.4.1)\r\n",
      "Requirement already satisfied: pure-eval in /opt/conda/lib/python3.10/site-packages (from stack-data->ipython->jupyter-dash) (0.2.2)\r\n",
      "Downloading jupyter_dash-0.4.2-py3-none-any.whl (23 kB)\r\n",
      "Downloading ansi2html-1.9.1-py3-none-any.whl (17 kB)\r\n",
      "Downloading dash-2.17.1-py3-none-any.whl (7.5 MB)\r\n",
      "\u001b[2K   \u001b[90m━━━━━━━━━━━━━━━━━━━━━━━━━━━━━━━━━━━━━━━━\u001b[0m \u001b[32m7.5/7.5 MB\u001b[0m \u001b[31m49.7 MB/s\u001b[0m eta \u001b[36m0:00:00\u001b[0m\r\n",
      "\u001b[?25hDownloading dash_core_components-2.0.0-py3-none-any.whl (3.8 kB)\r\n",
      "Downloading dash_html_components-2.0.0-py3-none-any.whl (4.1 kB)\r\n",
      "Downloading dash_table-5.0.0-py3-none-any.whl (3.9 kB)\r\n",
      "Installing collected packages: dash-table, dash-html-components, dash-core-components, ansi2html, dash, jupyter-dash\r\n",
      "Successfully installed ansi2html-1.9.1 dash-2.17.1 dash-core-components-2.0.0 dash-html-components-2.0.0 dash-table-5.0.0 jupyter-dash-0.4.2\r\n"
     ]
    },
    {
     "name": "stderr",
     "output_type": "stream",
     "text": [
      "/tmp/ipykernel_18/184922228.py:11: UserWarning: \n",
      "The dash_core_components package is deprecated. Please replace\n",
      "`import dash_core_components as dcc` with `from dash import dcc`\n",
      "  import dash_core_components as dcc\n",
      "/tmp/ipykernel_18/184922228.py:12: UserWarning: \n",
      "The dash_html_components package is deprecated. Please replace\n",
      "`import dash_html_components as html` with `from dash import html`\n",
      "  import dash_html_components as html\n"
     ]
    }
   ],
   "source": [
    "import streamlit as st\n",
    "import pandas as pd\n",
    "import numpy as np\n",
    "import os\n",
    "import threading\n",
    "from flask import Flask\n",
    "from pyngrok import ngrok\n",
    "!pip install jupyter-dash\n",
    "import plotly.express as px\n",
    "from jupyter_dash import JupyterDash\n",
    "import dash_core_components as dcc\n",
    "import dash_html_components as html\n",
    "from dash.dependencies import Input, Output# Load Data"
   ]
  },
  {
   "cell_type": "code",
   "execution_count": 19,
   "id": "71e5b524",
   "metadata": {
    "execution": {
     "iopub.execute_input": "2024-06-18T10:28:19.010579Z",
     "iopub.status.busy": "2024-06-18T10:28:19.009789Z",
     "iopub.status.idle": "2024-06-18T10:28:35.030600Z",
     "shell.execute_reply": "2024-06-18T10:28:35.028961Z"
    },
    "papermill": {
     "duration": 16.050136,
     "end_time": "2024-06-18T10:28:35.033520",
     "exception": false,
     "start_time": "2024-06-18T10:28:18.983384",
     "status": "completed"
    },
    "tags": []
   },
   "outputs": [
    {
     "name": "stdout",
     "output_type": "stream",
     "text": [
      "Requirement already satisfied: dash in /opt/conda/lib/python3.10/site-packages (2.17.1)\r\n",
      "Collecting dash-bootstrap-components\r\n",
      "  Downloading dash_bootstrap_components-1.6.0-py3-none-any.whl.metadata (5.2 kB)\r\n",
      "Requirement already satisfied: Flask<3.1,>=1.0.4 in /opt/conda/lib/python3.10/site-packages (from dash) (3.0.3)\r\n",
      "Requirement already satisfied: Werkzeug<3.1 in /opt/conda/lib/python3.10/site-packages (from dash) (3.0.3)\r\n",
      "Requirement already satisfied: plotly>=5.0.0 in /opt/conda/lib/python3.10/site-packages (from dash) (5.18.0)\r\n",
      "Requirement already satisfied: dash-html-components==2.0.0 in /opt/conda/lib/python3.10/site-packages (from dash) (2.0.0)\r\n",
      "Requirement already satisfied: dash-core-components==2.0.0 in /opt/conda/lib/python3.10/site-packages (from dash) (2.0.0)\r\n",
      "Requirement already satisfied: dash-table==5.0.0 in /opt/conda/lib/python3.10/site-packages (from dash) (5.0.0)\r\n",
      "Requirement already satisfied: importlib-metadata in /opt/conda/lib/python3.10/site-packages (from dash) (6.11.0)\r\n",
      "Requirement already satisfied: typing-extensions>=4.1.1 in /opt/conda/lib/python3.10/site-packages (from dash) (4.9.0)\r\n",
      "Requirement already satisfied: requests in /opt/conda/lib/python3.10/site-packages (from dash) (2.32.3)\r\n",
      "Requirement already satisfied: retrying in /opt/conda/lib/python3.10/site-packages (from dash) (1.3.3)\r\n",
      "Requirement already satisfied: nest-asyncio in /opt/conda/lib/python3.10/site-packages (from dash) (1.5.8)\r\n",
      "Requirement already satisfied: setuptools in /opt/conda/lib/python3.10/site-packages (from dash) (69.0.3)\r\n",
      "Requirement already satisfied: Jinja2>=3.1.2 in /opt/conda/lib/python3.10/site-packages (from Flask<3.1,>=1.0.4->dash) (3.1.2)\r\n",
      "Requirement already satisfied: itsdangerous>=2.1.2 in /opt/conda/lib/python3.10/site-packages (from Flask<3.1,>=1.0.4->dash) (2.2.0)\r\n",
      "Requirement already satisfied: click>=8.1.3 in /opt/conda/lib/python3.10/site-packages (from Flask<3.1,>=1.0.4->dash) (8.1.7)\r\n",
      "Requirement already satisfied: blinker>=1.6.2 in /opt/conda/lib/python3.10/site-packages (from Flask<3.1,>=1.0.4->dash) (1.8.2)\r\n",
      "Requirement already satisfied: tenacity>=6.2.0 in /opt/conda/lib/python3.10/site-packages (from plotly>=5.0.0->dash) (8.2.3)\r\n",
      "Requirement already satisfied: packaging in /opt/conda/lib/python3.10/site-packages (from plotly>=5.0.0->dash) (21.3)\r\n",
      "Requirement already satisfied: MarkupSafe>=2.1.1 in /opt/conda/lib/python3.10/site-packages (from Werkzeug<3.1->dash) (2.1.3)\r\n",
      "Requirement already satisfied: zipp>=0.5 in /opt/conda/lib/python3.10/site-packages (from importlib-metadata->dash) (3.17.0)\r\n",
      "Requirement already satisfied: charset-normalizer<4,>=2 in /opt/conda/lib/python3.10/site-packages (from requests->dash) (3.3.2)\r\n",
      "Requirement already satisfied: idna<4,>=2.5 in /opt/conda/lib/python3.10/site-packages (from requests->dash) (3.6)\r\n",
      "Requirement already satisfied: urllib3<3,>=1.21.1 in /opt/conda/lib/python3.10/site-packages (from requests->dash) (1.26.18)\r\n",
      "Requirement already satisfied: certifi>=2017.4.17 in /opt/conda/lib/python3.10/site-packages (from requests->dash) (2024.2.2)\r\n",
      "Requirement already satisfied: six>=1.7.0 in /opt/conda/lib/python3.10/site-packages (from retrying->dash) (1.16.0)\r\n",
      "Requirement already satisfied: pyparsing!=3.0.5,>=2.0.2 in /opt/conda/lib/python3.10/site-packages (from packaging->plotly>=5.0.0->dash) (3.1.1)\r\n",
      "Downloading dash_bootstrap_components-1.6.0-py3-none-any.whl (222 kB)\r\n",
      "\u001b[2K   \u001b[90m━━━━━━━━━━━━━━━━━━━━━━━━━━━━━━━━━━━━━━━━\u001b[0m \u001b[32m222.5/222.5 kB\u001b[0m \u001b[31m4.6 MB/s\u001b[0m eta \u001b[36m0:00:00\u001b[0m\r\n",
      "\u001b[?25hInstalling collected packages: dash-bootstrap-components\r\n",
      "Successfully installed dash-bootstrap-components-1.6.0\r\n"
     ]
    }
   ],
   "source": [
    "!pip install dash dash-bootstrap-components"
   ]
  },
  {
   "cell_type": "code",
   "execution_count": 20,
   "id": "40bbe3af",
   "metadata": {
    "execution": {
     "iopub.execute_input": "2024-06-18T10:28:35.102054Z",
     "iopub.status.busy": "2024-06-18T10:28:35.101453Z",
     "iopub.status.idle": "2024-06-18T10:28:42.665136Z",
     "shell.execute_reply": "2024-06-18T10:28:42.663879Z"
    },
    "papermill": {
     "duration": 7.601565,
     "end_time": "2024-06-18T10:28:42.668085",
     "exception": false,
     "start_time": "2024-06-18T10:28:35.066520",
     "status": "completed"
    },
    "tags": []
   },
   "outputs": [
    {
     "data": {
      "text/html": [
       "<div>\n",
       "<style scoped>\n",
       "    .dataframe tbody tr th:only-of-type {\n",
       "        vertical-align: middle;\n",
       "    }\n",
       "\n",
       "    .dataframe tbody tr th {\n",
       "        vertical-align: top;\n",
       "    }\n",
       "\n",
       "    .dataframe thead th {\n",
       "        text-align: right;\n",
       "    }\n",
       "</style>\n",
       "<table border=\"1\" class=\"dataframe\">\n",
       "  <thead>\n",
       "    <tr style=\"text-align: right;\">\n",
       "      <th></th>\n",
       "      <th>BUYSELL</th>\n",
       "      <th>ACTION</th>\n",
       "      <th>PRICE</th>\n",
       "      <th>VOLUME</th>\n",
       "      <th>DATE</th>\n",
       "      <th>BID_PRICE</th>\n",
       "      <th>ASK_PRICE</th>\n",
       "      <th>BID_VOLUME</th>\n",
       "      <th>ASK_VOLUME</th>\n",
       "      <th>BID_ASK_SPREAD</th>\n",
       "      <th>...</th>\n",
       "      <th>Volume_MA</th>\n",
       "      <th>Price_Gaussian</th>\n",
       "      <th>Volume_Gaussian</th>\n",
       "      <th>Price_EMA</th>\n",
       "      <th>Volume_EMA</th>\n",
       "      <th>Denoised_Price</th>\n",
       "      <th>hour</th>\n",
       "      <th>minute</th>\n",
       "      <th>day_of_week</th>\n",
       "      <th>second</th>\n",
       "    </tr>\n",
       "  </thead>\n",
       "  <tbody>\n",
       "    <tr>\n",
       "      <th>9</th>\n",
       "      <td>1</td>\n",
       "      <td>2</td>\n",
       "      <td>66.63</td>\n",
       "      <td>30</td>\n",
       "      <td>2015-03-02</td>\n",
       "      <td>76.28</td>\n",
       "      <td>0.00</td>\n",
       "      <td>1490.0</td>\n",
       "      <td>30.0</td>\n",
       "      <td>-76.28</td>\n",
       "      <td>...</td>\n",
       "      <td>1052.0</td>\n",
       "      <td>16.294232</td>\n",
       "      <td>136</td>\n",
       "      <td>62.465022</td>\n",
       "      <td>995.171445</td>\n",
       "      <td>66.63</td>\n",
       "      <td>10</td>\n",
       "      <td>0</td>\n",
       "      <td>0</td>\n",
       "      <td>5</td>\n",
       "    </tr>\n",
       "    <tr>\n",
       "      <th>10</th>\n",
       "      <td>0</td>\n",
       "      <td>2</td>\n",
       "      <td>76.30</td>\n",
       "      <td>60</td>\n",
       "      <td>2015-03-02</td>\n",
       "      <td>76.30</td>\n",
       "      <td>0.00</td>\n",
       "      <td>60.0</td>\n",
       "      <td>30.0</td>\n",
       "      <td>-76.30</td>\n",
       "      <td>...</td>\n",
       "      <td>1043.0</td>\n",
       "      <td>68.158761</td>\n",
       "      <td>81</td>\n",
       "      <td>64.980472</td>\n",
       "      <td>825.140273</td>\n",
       "      <td>76.30</td>\n",
       "      <td>10</td>\n",
       "      <td>0</td>\n",
       "      <td>0</td>\n",
       "      <td>45</td>\n",
       "    </tr>\n",
       "    <tr>\n",
       "      <th>11</th>\n",
       "      <td>0</td>\n",
       "      <td>2</td>\n",
       "      <td>76.31</td>\n",
       "      <td>290</td>\n",
       "      <td>2015-03-02</td>\n",
       "      <td>76.31</td>\n",
       "      <td>0.00</td>\n",
       "      <td>290.0</td>\n",
       "      <td>30.0</td>\n",
       "      <td>-76.31</td>\n",
       "      <td>...</td>\n",
       "      <td>1037.0</td>\n",
       "      <td>68.165536</td>\n",
       "      <td>341</td>\n",
       "      <td>67.040386</td>\n",
       "      <td>727.842042</td>\n",
       "      <td>76.31</td>\n",
       "      <td>10</td>\n",
       "      <td>0</td>\n",
       "      <td>0</td>\n",
       "      <td>6</td>\n",
       "    </tr>\n",
       "    <tr>\n",
       "      <th>12</th>\n",
       "      <td>1</td>\n",
       "      <td>2</td>\n",
       "      <td>66.63</td>\n",
       "      <td>1000</td>\n",
       "      <td>2015-03-02</td>\n",
       "      <td>76.31</td>\n",
       "      <td>0.00</td>\n",
       "      <td>290.0</td>\n",
       "      <td>1000.0</td>\n",
       "      <td>-76.31</td>\n",
       "      <td>...</td>\n",
       "      <td>1037.0</td>\n",
       "      <td>16.284712</td>\n",
       "      <td>871</td>\n",
       "      <td>54.851225</td>\n",
       "      <td>777.325307</td>\n",
       "      <td>66.63</td>\n",
       "      <td>10</td>\n",
       "      <td>0</td>\n",
       "      <td>0</td>\n",
       "      <td>35</td>\n",
       "    </tr>\n",
       "    <tr>\n",
       "      <th>13</th>\n",
       "      <td>1</td>\n",
       "      <td>2</td>\n",
       "      <td>76.29</td>\n",
       "      <td>500</td>\n",
       "      <td>2015-03-02</td>\n",
       "      <td>76.31</td>\n",
       "      <td>76.29</td>\n",
       "      <td>290.0</td>\n",
       "      <td>500.0</td>\n",
       "      <td>-0.02</td>\n",
       "      <td>...</td>\n",
       "      <td>1082.0</td>\n",
       "      <td>68.193341</td>\n",
       "      <td>1010</td>\n",
       "      <td>58.749184</td>\n",
       "      <td>726.902524</td>\n",
       "      <td>76.29</td>\n",
       "      <td>10</td>\n",
       "      <td>0</td>\n",
       "      <td>0</td>\n",
       "      <td>46</td>\n",
       "    </tr>\n",
       "    <tr>\n",
       "      <th>...</th>\n",
       "      <td>...</td>\n",
       "      <td>...</td>\n",
       "      <td>...</td>\n",
       "      <td>...</td>\n",
       "      <td>...</td>\n",
       "      <td>...</td>\n",
       "      <td>...</td>\n",
       "      <td>...</td>\n",
       "      <td>...</td>\n",
       "      <td>...</td>\n",
       "      <td>...</td>\n",
       "      <td>...</td>\n",
       "      <td>...</td>\n",
       "      <td>...</td>\n",
       "      <td>...</td>\n",
       "      <td>...</td>\n",
       "      <td>...</td>\n",
       "      <td>...</td>\n",
       "      <td>...</td>\n",
       "      <td>...</td>\n",
       "      <td>...</td>\n",
       "    </tr>\n",
       "    <tr>\n",
       "      <th>348469</th>\n",
       "      <td>1</td>\n",
       "      <td>2</td>\n",
       "      <td>62.60</td>\n",
       "      <td>10</td>\n",
       "      <td>2015-03-31</td>\n",
       "      <td>62.55</td>\n",
       "      <td>62.60</td>\n",
       "      <td>2000.0</td>\n",
       "      <td>10.0</td>\n",
       "      <td>0.05</td>\n",
       "      <td>...</td>\n",
       "      <td>1018.0</td>\n",
       "      <td>62.589720</td>\n",
       "      <td>291</td>\n",
       "      <td>62.258758</td>\n",
       "      <td>1061.217816</td>\n",
       "      <td>62.60</td>\n",
       "      <td>18</td>\n",
       "      <td>39</td>\n",
       "      <td>1</td>\n",
       "      <td>1</td>\n",
       "    </tr>\n",
       "    <tr>\n",
       "      <th>348470</th>\n",
       "      <td>0</td>\n",
       "      <td>2</td>\n",
       "      <td>62.56</td>\n",
       "      <td>660</td>\n",
       "      <td>2015-03-31</td>\n",
       "      <td>62.56</td>\n",
       "      <td>62.60</td>\n",
       "      <td>660.0</td>\n",
       "      <td>10.0</td>\n",
       "      <td>0.04</td>\n",
       "      <td>...</td>\n",
       "      <td>1068.0</td>\n",
       "      <td>62.291747</td>\n",
       "      <td>623</td>\n",
       "      <td>62.313529</td>\n",
       "      <td>988.269122</td>\n",
       "      <td>62.56</td>\n",
       "      <td>18</td>\n",
       "      <td>39</td>\n",
       "      <td>1</td>\n",
       "      <td>54</td>\n",
       "    </tr>\n",
       "    <tr>\n",
       "      <th>348471</th>\n",
       "      <td>1</td>\n",
       "      <td>2</td>\n",
       "      <td>60.00</td>\n",
       "      <td>970</td>\n",
       "      <td>2015-03-31</td>\n",
       "      <td>62.56</td>\n",
       "      <td>60.00</td>\n",
       "      <td>660.0</td>\n",
       "      <td>970.0</td>\n",
       "      <td>-2.56</td>\n",
       "      <td>...</td>\n",
       "      <td>1164.0</td>\n",
       "      <td>60.548532</td>\n",
       "      <td>834</td>\n",
       "      <td>61.892887</td>\n",
       "      <td>984.947464</td>\n",
       "      <td>60.00</td>\n",
       "      <td>18</td>\n",
       "      <td>39</td>\n",
       "      <td>1</td>\n",
       "      <td>53</td>\n",
       "    </tr>\n",
       "    <tr>\n",
       "      <th>348472</th>\n",
       "      <td>0</td>\n",
       "      <td>2</td>\n",
       "      <td>62.58</td>\n",
       "      <td>10</td>\n",
       "      <td>2015-03-31</td>\n",
       "      <td>62.58</td>\n",
       "      <td>60.00</td>\n",
       "      <td>10.0</td>\n",
       "      <td>970.0</td>\n",
       "      <td>-2.58</td>\n",
       "      <td>...</td>\n",
       "      <td>1139.0</td>\n",
       "      <td>62.308561</td>\n",
       "      <td>112</td>\n",
       "      <td>62.017817</td>\n",
       "      <td>807.684288</td>\n",
       "      <td>62.58</td>\n",
       "      <td>18</td>\n",
       "      <td>39</td>\n",
       "      <td>1</td>\n",
       "      <td>15</td>\n",
       "    </tr>\n",
       "    <tr>\n",
       "      <th>348473</th>\n",
       "      <td>0</td>\n",
       "      <td>2</td>\n",
       "      <td>62.61</td>\n",
       "      <td>10</td>\n",
       "      <td>2015-03-31</td>\n",
       "      <td>62.61</td>\n",
       "      <td>60.00</td>\n",
       "      <td>10.0</td>\n",
       "      <td>970.0</td>\n",
       "      <td>-2.61</td>\n",
       "      <td>...</td>\n",
       "      <td>807.0</td>\n",
       "      <td>62.609351</td>\n",
       "      <td>30</td>\n",
       "      <td>62.125487</td>\n",
       "      <td>662.650781</td>\n",
       "      <td>62.61</td>\n",
       "      <td>18</td>\n",
       "      <td>39</td>\n",
       "      <td>1</td>\n",
       "      <td>7</td>\n",
       "    </tr>\n",
       "  </tbody>\n",
       "</table>\n",
       "<p>329419 rows × 22 columns</p>\n",
       "</div>"
      ],
      "text/plain": [
       "        BUYSELL  ACTION  PRICE  VOLUME        DATE  BID_PRICE  ASK_PRICE  \\\n",
       "9             1       2  66.63      30  2015-03-02      76.28       0.00   \n",
       "10            0       2  76.30      60  2015-03-02      76.30       0.00   \n",
       "11            0       2  76.31     290  2015-03-02      76.31       0.00   \n",
       "12            1       2  66.63    1000  2015-03-02      76.31       0.00   \n",
       "13            1       2  76.29     500  2015-03-02      76.31      76.29   \n",
       "...         ...     ...    ...     ...         ...        ...        ...   \n",
       "348469        1       2  62.60      10  2015-03-31      62.55      62.60   \n",
       "348470        0       2  62.56     660  2015-03-31      62.56      62.60   \n",
       "348471        1       2  60.00     970  2015-03-31      62.56      60.00   \n",
       "348472        0       2  62.58      10  2015-03-31      62.58      60.00   \n",
       "348473        0       2  62.61      10  2015-03-31      62.61      60.00   \n",
       "\n",
       "        BID_VOLUME  ASK_VOLUME  BID_ASK_SPREAD  ...  Volume_MA  \\\n",
       "9           1490.0        30.0          -76.28  ...     1052.0   \n",
       "10            60.0        30.0          -76.30  ...     1043.0   \n",
       "11           290.0        30.0          -76.31  ...     1037.0   \n",
       "12           290.0      1000.0          -76.31  ...     1037.0   \n",
       "13           290.0       500.0           -0.02  ...     1082.0   \n",
       "...            ...         ...             ...  ...        ...   \n",
       "348469      2000.0        10.0            0.05  ...     1018.0   \n",
       "348470       660.0        10.0            0.04  ...     1068.0   \n",
       "348471       660.0       970.0           -2.56  ...     1164.0   \n",
       "348472        10.0       970.0           -2.58  ...     1139.0   \n",
       "348473        10.0       970.0           -2.61  ...      807.0   \n",
       "\n",
       "        Price_Gaussian  Volume_Gaussian  Price_EMA   Volume_EMA  \\\n",
       "9            16.294232              136  62.465022   995.171445   \n",
       "10           68.158761               81  64.980472   825.140273   \n",
       "11           68.165536              341  67.040386   727.842042   \n",
       "12           16.284712              871  54.851225   777.325307   \n",
       "13           68.193341             1010  58.749184   726.902524   \n",
       "...                ...              ...        ...          ...   \n",
       "348469       62.589720              291  62.258758  1061.217816   \n",
       "348470       62.291747              623  62.313529   988.269122   \n",
       "348471       60.548532              834  61.892887   984.947464   \n",
       "348472       62.308561              112  62.017817   807.684288   \n",
       "348473       62.609351               30  62.125487   662.650781   \n",
       "\n",
       "        Denoised_Price  hour  minute  day_of_week  second  \n",
       "9                66.63    10       0            0       5  \n",
       "10               76.30    10       0            0      45  \n",
       "11               76.31    10       0            0       6  \n",
       "12               66.63    10       0            0      35  \n",
       "13               76.29    10       0            0      46  \n",
       "...                ...   ...     ...          ...     ...  \n",
       "348469           62.60    18      39            1       1  \n",
       "348470           62.56    18      39            1      54  \n",
       "348471           60.00    18      39            1      53  \n",
       "348472           62.58    18      39            1      15  \n",
       "348473           62.61    18      39            1       7  \n",
       "\n",
       "[329419 rows x 22 columns]"
      ]
     },
     "execution_count": 20,
     "metadata": {},
     "output_type": "execute_result"
    }
   ],
   "source": [
    "data = pd.read_csv('/kaggle/input/eqqerff/preprocessed.csv')\n",
    "data = pd.read_csv('/kaggle/input/eqqerff/preprocessed.csv')\n",
    "data.drop(columns= ['Unnamed: 0','index'], inplace = True)\n",
    "# preprocessing\n",
    "data['DATETIME'] = pd.to_datetime(data['DATETIME'])\n",
    "data['TIME'] = data['TIME'].astype(str).str.rstrip('000')\n",
    "data['hour'] = data['DATETIME'].dt.hour\n",
    "data['minute'] = data['DATETIME'].dt.minute\n",
    "data['day_of_week'] = data['DATETIME'].dt.day_name()\n",
    "data['second'] =  data['DATETIME'].dt.second\n",
    "day_map = {'Monday': 0, 'Tuesday': 1, 'Wednesday': 2, 'Thursday': 3, 'Friday': 4, 'Saturday': 5, 'Sunday': 6}\n",
    "data['day_of_week'] = data['day_of_week'].map(day_map)\n",
    "data.drop(columns= ['DATETIME','TIME'], inplace = True) \n",
    "data.drop(columns= ['TRADE_PRICE','TRADENO'], inplace = True)\n",
    "data= data.dropna()\n",
    "data.drop(columns = ['ORDERNO','TRADE_TIME','TRADE_VOLUME'], inplace = True)\n",
    "# Create a dictionary to map string values to numeric values\n",
    "buysell_map = {'B': 0, 'S': 1}\n",
    "\n",
    "# Map the string values to numeric values\n",
    "data['BUYSELL'] = data['BUYSELL'].map(buysell_map)\n",
    "data.drop(columns = 'TRADEPRICE', inplace = True)\n",
    "data"
   ]
  },
  {
   "cell_type": "code",
   "execution_count": 21,
   "id": "d193d6bf",
   "metadata": {
    "execution": {
     "iopub.execute_input": "2024-06-18T10:28:42.725194Z",
     "iopub.status.busy": "2024-06-18T10:28:42.724776Z",
     "iopub.status.idle": "2024-06-18T10:28:43.659935Z",
     "shell.execute_reply": "2024-06-18T10:28:43.658279Z"
    },
    "papermill": {
     "duration": 0.96737,
     "end_time": "2024-06-18T10:28:43.662751",
     "exception": false,
     "start_time": "2024-06-18T10:28:42.695381",
     "status": "completed"
    },
    "tags": []
   },
   "outputs": [
    {
     "data": {
      "text/html": [
       "        <script type=\"text/javascript\">\n",
       "        window.PlotlyConfig = {MathJaxConfig: 'local'};\n",
       "        if (window.MathJax && window.MathJax.Hub && window.MathJax.Hub.Config) {window.MathJax.Hub.Config({SVG: {font: \"STIX-Web\"}});}\n",
       "        if (typeof require !== 'undefined') {\n",
       "        require.undef(\"plotly\");\n",
       "        requirejs.config({\n",
       "            paths: {\n",
       "                'plotly': ['https://cdn.plot.ly/plotly-2.27.0.min']\n",
       "            }\n",
       "        });\n",
       "        require(['plotly'], function(Plotly) {\n",
       "            window._Plotly = Plotly;\n",
       "        });\n",
       "        }\n",
       "        </script>\n",
       "        "
      ]
     },
     "metadata": {},
     "output_type": "display_data"
    },
    {
     "data": {
      "text/html": [
       "<div>                            <div id=\"7264e137-518b-4625-9587-8fe978bb5c42\" class=\"plotly-graph-div\" style=\"height:525px; width:100%;\"></div>            <script type=\"text/javascript\">                require([\"plotly\"], function(Plotly) {                    window.PLOTLYENV=window.PLOTLYENV || {};                                    if (document.getElementById(\"7264e137-518b-4625-9587-8fe978bb5c42\")) {                    Plotly.newPlot(                        \"7264e137-518b-4625-9587-8fe978bb5c42\",                        [{\"hovertemplate\":\"DATE=%{x}\\u003cbr\\u003ePRICE=%{y}\\u003cextra\\u003e\\u003c\\u002fextra\\u003e\",\"legendgroup\":\"\",\"line\":{\"color\":\"#000001\",\"dash\":\"solid\"},\"marker\":{\"symbol\":\"circle\"},\"mode\":\"lines\",\"name\":\"\",\"orientation\":\"v\",\"showlegend\":false,\"x\":[\"2015-03-02T00:00:00\",\"2015-03-03T00:00:00\",\"2015-03-04T00:00:00\",\"2015-03-05T00:00:00\",\"2015-03-06T00:00:00\",\"2015-03-10T00:00:00\",\"2015-03-11T00:00:00\",\"2015-03-12T00:00:00\",\"2015-03-13T00:00:00\",\"2015-03-16T00:00:00\",\"2015-03-17T00:00:00\",\"2015-03-18T00:00:00\",\"2015-03-19T00:00:00\",\"2015-03-24T00:00:00\",\"2015-03-25T00:00:00\",\"2015-03-26T00:00:00\",\"2015-03-27T00:00:00\",\"2015-03-30T00:00:00\",\"2015-03-31T00:00:00\"],\"xaxis\":\"x\",\"y\":[75.94591463784833,75.2133809850191,73.75080176730486,72.51106623659823,72.74179961845545,70.36198244204728,70.03896971279373,70.35711512001224,69.09272259998929,66.52754116588129,65.08215539322644,65.43923374114617,65.83195110943964,65.4187128918414,65.23151246537395,64.20078769577233,62.39288309800664,62.52864970077277,62.80713717461246],\"yaxis\":\"y\",\"type\":\"scatter\"}],                        {\"template\":{\"data\":{\"candlestick\":[{\"decreasing\":{\"line\":{\"color\":\"#000033\"}},\"increasing\":{\"line\":{\"color\":\"#000032\"}},\"type\":\"candlestick\"}],\"contourcarpet\":[{\"colorscale\":[[0.0,\"#000011\"],[0.1111111111111111,\"#000012\"],[0.2222222222222222,\"#000013\"],[0.3333333333333333,\"#000014\"],[0.4444444444444444,\"#000015\"],[0.5555555555555556,\"#000016\"],[0.6666666666666666,\"#000017\"],[0.7777777777777778,\"#000018\"],[0.8888888888888888,\"#000019\"],[1.0,\"#000020\"]],\"type\":\"contourcarpet\"}],\"contour\":[{\"colorscale\":[[0.0,\"#000011\"],[0.1111111111111111,\"#000012\"],[0.2222222222222222,\"#000013\"],[0.3333333333333333,\"#000014\"],[0.4444444444444444,\"#000015\"],[0.5555555555555556,\"#000016\"],[0.6666666666666666,\"#000017\"],[0.7777777777777778,\"#000018\"],[0.8888888888888888,\"#000019\"],[1.0,\"#000020\"]],\"type\":\"contour\"}],\"heatmap\":[{\"colorscale\":[[0.0,\"#000011\"],[0.1111111111111111,\"#000012\"],[0.2222222222222222,\"#000013\"],[0.3333333333333333,\"#000014\"],[0.4444444444444444,\"#000015\"],[0.5555555555555556,\"#000016\"],[0.6666666666666666,\"#000017\"],[0.7777777777777778,\"#000018\"],[0.8888888888888888,\"#000019\"],[1.0,\"#000020\"]],\"type\":\"heatmap\"}],\"histogram2d\":[{\"colorscale\":[[0.0,\"#000011\"],[0.1111111111111111,\"#000012\"],[0.2222222222222222,\"#000013\"],[0.3333333333333333,\"#000014\"],[0.4444444444444444,\"#000015\"],[0.5555555555555556,\"#000016\"],[0.6666666666666666,\"#000017\"],[0.7777777777777778,\"#000018\"],[0.8888888888888888,\"#000019\"],[1.0,\"#000020\"]],\"type\":\"histogram2d\"}],\"icicle\":[{\"textfont\":{\"color\":\"white\"},\"type\":\"icicle\"}],\"sankey\":[{\"textfont\":{\"color\":\"#000036\"},\"type\":\"sankey\"}],\"scatter\":[{\"marker\":{\"line\":{\"width\":0}},\"type\":\"scatter\"}],\"table\":[{\"cells\":{\"fill\":{\"color\":\"#000038\"},\"font\":{\"color\":\"#000037\"},\"line\":{\"color\":\"#000039\"}},\"header\":{\"fill\":{\"color\":\"#000040\"},\"font\":{\"color\":\"#000036\"},\"line\":{\"color\":\"#000039\"}},\"type\":\"table\"}],\"waterfall\":[{\"connector\":{\"line\":{\"color\":\"#000036\",\"width\":2}},\"decreasing\":{\"marker\":{\"color\":\"#000033\"}},\"increasing\":{\"marker\":{\"color\":\"#000032\"}},\"totals\":{\"marker\":{\"color\":\"#000034\"}},\"type\":\"waterfall\"}]},\"layout\":{\"coloraxis\":{\"colorscale\":[[0.0,\"#000011\"],[0.1111111111111111,\"#000012\"],[0.2222222222222222,\"#000013\"],[0.3333333333333333,\"#000014\"],[0.4444444444444444,\"#000015\"],[0.5555555555555556,\"#000016\"],[0.6666666666666666,\"#000017\"],[0.7777777777777778,\"#000018\"],[0.8888888888888888,\"#000019\"],[1.0,\"#000020\"]]},\"colorscale\":{\"diverging\":[[0.0,\"#000021\"],[0.1,\"#000022\"],[0.2,\"#000023\"],[0.3,\"#000024\"],[0.4,\"#000025\"],[0.5,\"#000026\"],[0.6,\"#000027\"],[0.7,\"#000028\"],[0.8,\"#000029\"],[0.9,\"#000030\"],[1.0,\"#000031\"]],\"sequential\":[[0.0,\"#000011\"],[0.1111111111111111,\"#000012\"],[0.2222222222222222,\"#000013\"],[0.3333333333333333,\"#000014\"],[0.4444444444444444,\"#000015\"],[0.5555555555555556,\"#000016\"],[0.6666666666666666,\"#000017\"],[0.7777777777777778,\"#000018\"],[0.8888888888888888,\"#000019\"],[1.0,\"#000020\"]],\"sequentialminus\":[[0.0,\"#000011\"],[0.1111111111111111,\"#000012\"],[0.2222222222222222,\"#000013\"],[0.3333333333333333,\"#000014\"],[0.4444444444444444,\"#000015\"],[0.5555555555555556,\"#000016\"],[0.6666666666666666,\"#000017\"],[0.7777777777777778,\"#000018\"],[0.8888888888888888,\"#000019\"],[1.0,\"#000020\"]]},\"colorway\":[\"#000001\",\"#000002\",\"#000003\",\"#000004\",\"#000005\",\"#000006\",\"#000007\",\"#000008\",\"#000009\",\"#000010\"]}},\"xaxis\":{\"anchor\":\"y\",\"domain\":[0.0,1.0],\"title\":{\"text\":\"DATE\"}},\"yaxis\":{\"anchor\":\"x\",\"domain\":[0.0,1.0],\"title\":{\"text\":\"PRICE\"}},\"legend\":{\"tracegroupgap\":0},\"title\":{\"text\":\"Average Price by Date SBER\"}},                        {\"responsive\": true}                    ).then(function(){\n",
       "                            \n",
       "var gd = document.getElementById('7264e137-518b-4625-9587-8fe978bb5c42');\n",
       "var x = new MutationObserver(function (mutations, observer) {{\n",
       "        var display = window.getComputedStyle(gd).display;\n",
       "        if (!display || display === 'none') {{\n",
       "            console.log([gd, 'removed!']);\n",
       "            Plotly.purge(gd);\n",
       "            observer.disconnect();\n",
       "        }}\n",
       "}});\n",
       "\n",
       "// Listen for the removal of the full notebook cells\n",
       "var notebookContainer = gd.closest('#notebook-container');\n",
       "if (notebookContainer) {{\n",
       "    x.observe(notebookContainer, {childList: true});\n",
       "}}\n",
       "\n",
       "// Listen for the clearing of the current output cell\n",
       "var outputEl = gd.closest('.output');\n",
       "if (outputEl) {{\n",
       "    x.observe(outputEl, {childList: true});\n",
       "}}\n",
       "\n",
       "                        })                };                });            </script>        </div>"
      ]
     },
     "metadata": {},
     "output_type": "display_data"
    }
   ],
   "source": [
    "data['DATE'] = pd.to_datetime(data['DATE'])\n",
    "\n",
    "# Group by 'Date' and calculate the average price for each date\n",
    "average_prices = data.groupby('DATE')['PRICE'].mean().reset_index()\n",
    "fig = px.line(average_prices, x='DATE', y='PRICE', title='Average Price by Date SBER')\n",
    "fig.show()"
   ]
  },
  {
   "cell_type": "code",
   "execution_count": 22,
   "id": "618edb2d",
   "metadata": {
    "execution": {
     "iopub.execute_input": "2024-06-18T10:28:43.720832Z",
     "iopub.status.busy": "2024-06-18T10:28:43.720418Z",
     "iopub.status.idle": "2024-06-18T10:28:43.730677Z",
     "shell.execute_reply": "2024-06-18T10:28:43.729195Z"
    },
    "papermill": {
     "duration": 0.043941,
     "end_time": "2024-06-18T10:28:43.734028",
     "exception": false,
     "start_time": "2024-06-18T10:28:43.690087",
     "status": "completed"
    },
    "tags": []
   },
   "outputs": [],
   "source": [
    "# Dummy data for literature review (replace with your actual data)\n",
    "df_literature_review = {\n",
    "    \"Paper\": [\n",
    "        \"Optimal execution in Bertsimas and Lo\",\n",
    "        \"Almgren and Chriss [2001]\",\n",
    "        \"Obizhaeva and Wang [2013]\",\n",
    "        \"Huberman and Stanzl [2005]\",\n",
    "        \"Nevmyvaka et al. [2006]\",\n",
    "        \"Dahlén and Rantil [2018], Schnaubelt [2022]\",\n",
    "        \"Brian Ning et al.\"\n",
    "    ],\n",
    "    \"Algorithms and Methodology\": [\n",
    "        \"Formulated the liquidation problem in terms of minimizing execution costs\\nUsed dynamic programming to model stock prices and price impact functions\\nclosed-form solution for optimal execution\",\n",
    "        \"Deal with the problem of optimal execution under price uncertainty\",\n",
    "        \"Market impact model, optimal execution strategies\",\n",
    "        \"Stochastic control problem, analytical solution\",\n",
    "        \"Reinforcement learning (Q-learning)\",\n",
    "        \"Double Deep Q-Network (DDQN), Proximal Policy Optimization (PPO) algorithms\",\n",
    "        \"Deep Q-Learning, Experience Replay, Double DQN\"\n",
    "    ],\n",
    "    \"Main Ideas and Results\": [\n",
    "        \"Derived trading strategies that minimize the expected cost of execution which adapt to changing market conditions and price changes in an optimal\\nThe approach of breaking up a large trade into a number of smaller trades of equal size is optimal when price impact is linear in the trade size, permanent and prices follow an arithmetic random walk\",\n",
    "        \"Risk-averse trader has benefit in delaying their trades\\nThe optimal strategy is a trade-off between early and late trades to balance the risk associated with both price and volume\\nProvided an optimal solution under assumption that stock prices follow Brownian motion\",\n",
    "        \"Presents a model for optimal trading strategies considering market impact and timing of execution. Provides insights into minimizing transaction costs and improving execution performance for institutional investors and traders executing large orders.\",\n",
    "        \"Presents optimal execution as a stochastic control problem and provides an analytical solution by minimizing implementation shortfall\",\n",
    "        \"Introduces data-driven optimal execution algorithms using Q-learning. Shows significant reduction in execution costs compared to traditional algorithms, particularly when considering market states\",\n",
    "        \"Utilizes DDQN and PPO algorithms to overcome the limitations of Q-learning in solving high-dimensional problems within optimal execution\",\n",
    "        \"Proposes a model-free approach employing Deep Q-Learning to estimate optimal trading actions. Utilizes neural networks trained with Experience Replay and Double DQN. Demonstrates outperformance of standard benchmark approaches on various stocks, measured by mean and median out-performance, probability of out-performance, and gain-loss ratios\"\n",
    "    ]\n",
    "}\n",
    "\n",
    "# Convert dictionary to pandas DataFrame\n",
    "df_literature_review = pd.DataFrame(df_literature_review)"
   ]
  },
  {
   "cell_type": "code",
   "execution_count": 23,
   "id": "72455ad8",
   "metadata": {
    "execution": {
     "iopub.execute_input": "2024-06-18T10:28:43.791599Z",
     "iopub.status.busy": "2024-06-18T10:28:43.790977Z",
     "iopub.status.idle": "2024-06-18T10:28:48.354354Z",
     "shell.execute_reply": "2024-06-18T10:28:48.353163Z"
    },
    "papermill": {
     "duration": 4.595903,
     "end_time": "2024-06-18T10:28:48.357235",
     "exception": false,
     "start_time": "2024-06-18T10:28:43.761332",
     "status": "completed"
    },
    "tags": []
   },
   "outputs": [
    {
     "name": "stderr",
     "output_type": "stream",
     "text": [
      "/opt/conda/lib/python3.10/site-packages/plotly/express/_core.py:2065: FutureWarning:\n",
      "\n",
      "When grouping with a length-1 list-like, you will need to pass a length-1 tuple to get_group in a future version of pandas. Pass `(name,)` instead of `name` to silence this warning.\n",
      "\n"
     ]
    },
    {
     "name": "stdout",
     "output_type": "stream",
     "text": [
      "Public URL: NgrokTunnel: \"https://3e06-34-168-185-106.ngrok-free.app\" -> \"http://localhost:8050\"\n"
     ]
    },
    {
     "data": {
      "text/html": [
       "\n",
       "        <iframe\n",
       "            width=\"100%\"\n",
       "            height=\"650\"\n",
       "            src=\"http://127.0.0.1:8050/\"\n",
       "            frameborder=\"0\"\n",
       "            allowfullscreen\n",
       "            \n",
       "        ></iframe>\n",
       "        "
      ],
      "text/plain": [
       "<IPython.lib.display.IFrame at 0x7fe0d283f520>"
      ]
     },
     "metadata": {},
     "output_type": "display_data"
    }
   ],
   "source": [
    "import dash\n",
    "from dash import dcc, html, Input, Output\n",
    "import dash_bootstrap_components as dbc\n",
    "from pyngrok import ngrok\n",
    "\n",
    "# Assume df and other necessary data and stylesheets are defined as per your setup\n",
    "df = data.copy()\n",
    "# Initialize the app\n",
    "app = dash.Dash(__name__, external_stylesheets=[dbc.themes.BOOTSTRAP], suppress_callback_exceptions=True)\n",
    "app.title = \"Multi-Page Dash App\"\n",
    "server = app.server\n",
    "\n",
    "# Define the sidebar\n",
    "sidebar = dbc.Col(\n",
    "    [\n",
    "        dbc.Nav(\n",
    "            [\n",
    "                dbc.NavLink(\"RL Approach to Optimal Execution\", href=\"/rl-approach\", active=\"exact\"),\n",
    "                dbc.NavLink(\"General Limit Book Description\", href=\"/page-1\", active=\"exact\"),\n",
    "                dbc.NavLink(\"Almagen Chriss Model\", href=\"/page-2\", active=\"exact\"),\n",
    "                dbc.NavLink(\"Metrics\", href=\"/page-3\", active=\"exact\"),\n",
    "                dbc.NavLink(\"DQN Agent\", href=\"/dqn-agent\", active=\"exact\"),\n",
    "                dbc.NavLink(\"DDQN Agent\", href=\"/ddqn-agent\", active=\"exact\"),\n",
    "            ],\n",
    "            vertical=True,\n",
    "            pills=True,\n",
    "        ),\n",
    "    ],\n",
    "    width=2,\n",
    ")\n",
    "\n",
    "# Define the content area\n",
    "content = dbc.Col(\n",
    "    html.Div(id='page-content'),\n",
    "    width=10\n",
    ")\n",
    "\n",
    "# Define the app layout\n",
    "app.layout = dbc.Container(\n",
    "    [\n",
    "        dbc.Row(\n",
    "            [\n",
    "                sidebar,\n",
    "                content\n",
    "            ]\n",
    "        ),\n",
    "        dcc.Location(id='url', refresh=False)\n",
    "    ],\n",
    "    fluid=True\n",
    ")\n",
    "\n",
    "\n",
    "\n",
    "# Define the circular diagram for RL flow\n",
    "fig_rl_flow = go.Figure()\n",
    "\n",
    "# Define nodes and links for the diagram\n",
    "nodes_rl_flow = [\n",
    "    dict(label='State (S)', x=0.2, y=0.5, pad=20, thickness=20),\n",
    "    dict(label='Action (A)', x=0.5, y=0.8, pad=20, thickness=20),\n",
    "    dict(label='Env', x=0.8, y=0.5, pad=20, thickness=20),\n",
    "    dict(label='Reward (R)', x=0.5, y=0.2, pad=20, thickness=20)\n",
    "]\n",
    "\n",
    "links_rl_flow = [\n",
    "    dict(source=0, target=1, value='Perceive State'),\n",
    "    dict(source=1, target=2, value='Take Action'),\n",
    "    dict(source=2, target=3, value='Receive Reward'),\n",
    "    dict(source=3, target=0, value='Environment Responds')\n",
    "]\n",
    "\n",
    "# Add nodes to the figure\n",
    "for node in nodes_rl_flow:\n",
    "    fig_rl_flow.add_trace(go.Scatter(\n",
    "        x=[node['x']], y=[node['y']],\n",
    "        text=node['label'], mode='markers+text',\n",
    "        textposition='top center',\n",
    "        marker=dict(size=node['thickness'], color='blue'),\n",
    "        hoverinfo='none'\n",
    "    ))\n",
    "\n",
    "# Add links to the figure\n",
    "for link in links_rl_flow:\n",
    "    fig_rl_flow.add_trace(go.Scatter(\n",
    "        x=[nodes_rl_flow[link['source']]['x'], nodes_rl_flow[link['target']]['x']],\n",
    "        y=[nodes_rl_flow[link['source']]['y'], nodes_rl_flow[link['target']]['y']],\n",
    "        mode='lines',\n",
    "        line=dict(color='blue', width=1),\n",
    "        hoverinfo='none'\n",
    "    ))\n",
    "\n",
    "# Update layout for RL flow diagram\n",
    "fig_rl_flow.update_layout(\n",
    "    title='Circular Diagram Flow: Reinforcement Learning',\n",
    "    showlegend=False,\n",
    "    font=dict(size=12),\n",
    "    height=500,\n",
    "    width=500,\n",
    "    xaxis=dict(visible=False, range=[0, 1]),\n",
    "    yaxis=dict(visible=False, range=[0, 1])\n",
    ")\n",
    "\n",
    "# Define the app layout\n",
    "page_rl_layout = html.Div([\n",
    "    html.H1('RL Approach to Optimal Execution'),\n",
    "\n",
    "    html.Div([\n",
    "        html.H2('Introduction'),\n",
    "        html.Div([\n",
    "            html.Blockquote([\n",
    "                html.P([\n",
    "                    html.Span('Study of Algorithmic trading involves:', style={'color': 'darkblue', 'font-weight': 'bold'}),\n",
    "                    html.Ul([\n",
    "                        html.Li('Optimal execution: what is the best quantity of the order to be executed'),\n",
    "                        html.Li('Optimal placement: how to place the orders in the time range'),\n",
    "                        html.Li('Price Impact: the consequences of these orders on the price of the stock on which we place the order')\n",
    "                    ])\n",
    "                ])\n",
    "            ]),\n",
    "            html.Blockquote([\n",
    "                html.P([\n",
    "                    html.Span('Why it is important to study the topic?', style={'color': 'darkblue', 'font-weight': 'bold'}),\n",
    "                    html.Ul([\n",
    "                        html.Li('Risk Management: Effective optimal execution techniques aid in mitigating risks associated with trading activities'),\n",
    "                        html.Li('Market Impact Mitigation: By breaking down large orders into smaller ones, executing them gradually over time, traders can avoid significant price movements'),\n",
    "                        html.Li('Enhanced Performance: By achieving better execution prices and minimizing transaction costs, traders can improve their overall investment returns.')\n",
    "                    ])\n",
    "                ])\n",
    "            ])\n",
    "        ], className='six columns')\n",
    "    ], className='row'),\n",
    "\n",
    "    html.Div([\n",
    "        html.H2('Literature Review Key Points'),\n",
    "        html.P('Algorithmic trading employs advanced techniques based on predefined rules derived from historical data, executed via computer programs for automated market order placement.'),\n",
    "        html.P('Recent advancements in machine learning, particularly in deep learning and computational resources, have accelerated developments in reinforcement learning (RL) and Generative Adversarial Networks (GANs).'),\n",
    "        html.P('These technologies are increasingly applied to algorithmic trading problems such as optimal execution, compared against classical approaches like VWAP and TWAP.'),\n",
    "        html.P('Other critical aspects include optimal placement within market conditions, considering liquidity, volatility, and minimizing price impact through strategic order execution.'),\n",
    "        html.P('Factors influencing execution strategies include market dynamics insights, order types (market vs limit), transaction fees, order flow analysis, and risk evaluation.'),\n",
    "        html.P('Price impact, influenced by order size, trading volume, market depth, and microstructure dynamics, also plays a significant role in trading outcomes.')\n",
    "    ], className='row'),\n",
    "\n",
    "    html.Div([\n",
    "        html.H2('Literature Review Table'),\n",
    "        dbc.Table.from_dataframe(\n",
    "            df_literature_review,\n",
    "            striped=True,\n",
    "            bordered=True,\n",
    "            hover=True,\n",
    "            responsive=True\n",
    "        )\n",
    "    ], style={'margin-top': '30px'}),\n",
    "\n",
    "    html.Div([\n",
    "        html.H2('How Reinforcement Learning Works'),\n",
    "        dcc.Graph(\n",
    "            id='rl-diagram',\n",
    "            figure=fig_rl_flow\n",
    "        ),\n",
    "        html.P([\n",
    "            'The reinforcement learning process is depicted as a circular flow diagram. ',\n",
    "            'The agent starts by perceiving the current state (S), then selects an action (A) based on its policy. ',\n",
    "            'The action is executed in the environment (Env), which responds by transitioning to a new state and providing a reward (R) to the agent. ',\n",
    "            'This cyclical process continues, with optional learning and policy updates.'\n",
    "        ], style={'margin-top': '20px'})\n",
    "    ], style={'margin-top': '30px'}),\n",
    "\n",
    "    html.Div([\n",
    "        html.H2('Research Questions and Motivation'),\n",
    "        html.Blockquote([\n",
    "            html.P([\n",
    "                html.Span('The Basic question:', style={'color': 'darkblue', 'font-weight': 'bold'}),\n",
    "                html.Ul([\n",
    "                    html.Li('How to optimally liquidate a portfolio with q0 shares?')\n",
    "                ])\n",
    "            ])\n",
    "        ]),\n",
    "        html.Blockquote([\n",
    "            html.P([\n",
    "                html.Span('The Research Questions:', style={'color': 'darkblue', 'font-weight': 'bold'}),\n",
    "                html.Ul([\n",
    "                    html.Li('How does our chosen RL algorithms perform compared to a set of baselines strategies with respect to transaction cost?'),\n",
    "                    html.Li('Can the transaction cost be reduced if information regarding historical prices or orders is included in the RL algorithms?'),\n",
    "                    html.Li('What is the financial and economic interpretation of the results and how to get more reboost estimators of the function?')\n",
    "                ])\n",
    "            ])\n",
    "        ])\n",
    "    ], style={'margin-top': '30px'}),\n",
    "\n",
    "    html.Div([\n",
    "        html.H2('The RL Problem'),\n",
    "        html.Div([\n",
    "            html.P('The goal in RL is to select a policy which maximizes expected return when the agent acts according to it. If both the environment transitions and the policy are stochastic, the probability of a T-step trajectory is:'),\n",
    "            html.Div([\n",
    "                'P(τ|π) = ',\n",
    "                html.Span('ρ₀(s₀)', className='formula-text'),\n",
    "                ' ∏_{t=0}^{T-1} ',\n",
    "                html.Span('P(s_{t+1} | s_t, a_t)', className='formula-text'),\n",
    "                ' ',\n",
    "                html.Span('π(a_t | s_t)', className='formula-text')\n",
    "            ]),\n",
    "            html.P('The expected return (for whichever measure), denoted by J(π), is then:'),\n",
    "            html.Div([\n",
    "                'J(π) = ',\n",
    "                html.Span('∫_{τ} ', className='formula-text'),\n",
    "                'P(τ|π) R(τ) = ',\n",
    "                html.Span('𝔼_{τ ∼ π}[R(τ)]', className='formula-text')\n",
    "            ]),\n",
    "            html.P('The central optimization problem in RL can then be expressed by:'),\n",
    "            html.Div([\n",
    "                html.Span('π* = ', className='formula-text'),\n",
    "                html.Span('argmax_{π} ', className='formula-text'),\n",
    "                'J(π).'\n",
    "            ])\n",
    "        ])\n",
    "    ], style={'margin-top': '30px'}),\n",
    "     \n",
    "   html.Div([\n",
    "        html.H2('Novelty of the Paper'),\n",
    "        html.Ul([\n",
    "            html.Li('Realistic Environment Creation: In the research, we propose a more realistic environment using real data, considering delays and various order execution types for improved accuracy.'),\n",
    "            html.Li('Modeling Price Impact: Emphasizing accurate price impact modeling in algorithmic trading to better capture market dynamics.'),\n",
    "            html.Li('Simulation on Real Data: Different models will be compared in terms of getting the best results.'),\n",
    "            html.Li('Incorporating Agent State and Market Signals: The paper also considers the agent\\'s current state and market signals to enhance decision-making in diverse market conditions.'),\n",
    "            html.Li('Noisy Data: Usage of different denoising techniques for better performance.'),\n",
    "            html.Li('Incorporate Multiple Agent Modeling: The paper also considers the agent\\'s current state and market signals to enhance decision-making in diverse market conditions.')\n",
    "        ])\n",
    "    ], style={'margin-top': '30px'})\n",
    "\n",
    "])\n",
    "\n",
    "\n",
    "# Define Page 1 layout\n",
    "page_1_layout = html.Div([\n",
    "    html.H1('General Limit Book Description'),\n",
    "\n",
    "    # Average Price by Date\n",
    "    dcc.Graph(\n",
    "        id='average-price-by-date',\n",
    "        figure=px.line(\n",
    "            df.groupby('DATE')['PRICE'].mean().reset_index(),\n",
    "            x='DATE',\n",
    "            y='PRICE',\n",
    "            title='Average Price by Date'\n",
    "        ).update_traces(line_color='blue')\n",
    "    ),\n",
    "\n",
    "    # Scatter Plot for Limit Order Book\n",
    "    dcc.Graph(\n",
    "        id='limit-order-book',\n",
    "        figure=px.scatter(\n",
    "            df,\n",
    "            x='DATE',\n",
    "            y='PRICE',\n",
    "            color='BUYSELL',\n",
    "            title='Limit Order Book',\n",
    "            labels={'PRICE': 'Trade Price', 'DATE': 'Date', 'BUYSELL': 'Buy/Sell'}\n",
    "        ).update_traces(marker=dict(color='blue'))\n",
    "    ),\n",
    "\n",
    "    # Volume Distribution by Buy/Sell Side\n",
    "    dcc.Graph(\n",
    "        id='volume-distribution',\n",
    "        figure=px.bar(\n",
    "            df.groupby(['DATE', 'BUYSELL'])['VOLUME'].sum().reset_index(),\n",
    "            x='DATE',\n",
    "            y='VOLUME',\n",
    "            color='BUYSELL',\n",
    "            title='Volume Distribution by Buy/Sell Side',\n",
    "            labels={'VOLUME': 'Volume', 'DATE': 'Date', 'BUYSELL': 'Buy/Sell'},\n",
    "            color_discrete_sequence=['blue']  # Set the color to blue\n",
    "        ).update_layout(xaxis=dict(tickangle=45))\n",
    "    ), \n",
    "    \n",
    "    # Distribution of Actions by Date and Buy/Sell\n",
    "    dcc.Graph(\n",
    "        id='actions-distribution',\n",
    "        figure=px.bar(\n",
    "            df.groupby(['DATE', 'ACTION', 'BUYSELL']).size().reset_index(name='Count'),\n",
    "            x='DATE',\n",
    "            y='Count',\n",
    "            color='ACTION',\n",
    "            barmode='group',\n",
    "            facet_col='BUYSELL',\n",
    "            title='Distribution of Actions by Date and Buy/Sell',\n",
    "            labels={'Count': 'Number of Observations', 'DATE': 'Date', 'ACTION': 'Action', 'BUYSELL': 'Buy/Sell'},\n",
    "            color_discrete_sequence=px.colors.qualitative.Pastel1  # Use Plotly qualitative color palette\n",
    "        ).update_layout(xaxis=dict(tickangle=45))\n",
    "    )\n",
    "])\n",
    "\n",
    "# Define Almagen Chriss Model layout (Page 2)\n",
    "almagen_chriss_layout = html.Div([\n",
    "    html.H1('Almagen Chriss Model'),\n",
    "    html.P('This page is dedicated to the Almagen Chriss Model.')\n",
    "])\n",
    "\n",
    "# Define Metrics layout (Page 3)\n",
    "metrics_layout = html.Div([\n",
    "    html.H1('Metrics'),\n",
    "    html.P('This page is dedicated to metrics.')\n",
    "])\n",
    "\n",
    "# Define DQN Agent layout\n",
    "dqn_agent_layout = html.Div([\n",
    "    html.H1('DQN Agent'),\n",
    "    html.P('This is a blank page for DQN Agent.')\n",
    "])\n",
    "\n",
    "# Define DDQN Agent layout\n",
    "ddqn_agent_layout = html.Div([\n",
    "    html.H1('DDQN Agent'),\n",
    "    html.P('This is a blank page for DDQN Agent.')\n",
    "])\n",
    "\n",
    "# Callbacks to handle page routing\n",
    "@app.callback(Output('page-content', 'children'), \n",
    "              [Input('url', 'pathname')])\n",
    "def display_page(pathname):\n",
    "    if pathname == '/page-1':\n",
    "        return page_1_layout\n",
    "    elif pathname == '/page-2':\n",
    "        return almagen_chriss_layout\n",
    "    elif pathname == '/page-3':\n",
    "        return metrics_layout\n",
    "    elif pathname == '/dqn-agent':\n",
    "        return dqn_agent_layout\n",
    "    elif pathname == '/ddqn-agent':\n",
    "        return ddqn_agent_layout\n",
    "    else:\n",
    "        return page_rl_layout  # Default to RL Approach page layout if URL doesn't match\n",
    "\n",
    "# Close existing ngrok tunnels\n",
    "existing_tunnels = ngrok.get_tunnels()\n",
    "for tunnel in existing_tunnels:\n",
    "    ngrok.disconnect(tunnel.public_url)\n",
    "\n",
    "# Set up ngrok tunnel\n",
    "public_url = ngrok.connect(8050)\n",
    "print(f\"Public URL: {public_url}\")\n",
    "\n",
    "if __name__ == '__main__':\n",
    "    app.run_server()\n"
   ]
  },
  {
   "cell_type": "code",
   "execution_count": null,
   "id": "845c0052",
   "metadata": {
    "papermill": {
     "duration": 0.028503,
     "end_time": "2024-06-18T10:28:48.413196",
     "exception": false,
     "start_time": "2024-06-18T10:28:48.384693",
     "status": "completed"
    },
    "tags": []
   },
   "outputs": [],
   "source": []
  },
  {
   "cell_type": "code",
   "execution_count": null,
   "id": "b38258a3",
   "metadata": {
    "papermill": {
     "duration": 0.028105,
     "end_time": "2024-06-18T10:28:48.469072",
     "exception": false,
     "start_time": "2024-06-18T10:28:48.440967",
     "status": "completed"
    },
    "tags": []
   },
   "outputs": [],
   "source": []
  },
  {
   "cell_type": "code",
   "execution_count": null,
   "id": "ec73a871",
   "metadata": {
    "papermill": {
     "duration": 0.030817,
     "end_time": "2024-06-18T10:28:48.527987",
     "exception": false,
     "start_time": "2024-06-18T10:28:48.497170",
     "status": "completed"
    },
    "tags": []
   },
   "outputs": [],
   "source": []
  },
  {
   "cell_type": "code",
   "execution_count": null,
   "id": "078def4c",
   "metadata": {
    "papermill": {
     "duration": 0.029013,
     "end_time": "2024-06-18T10:28:48.589197",
     "exception": false,
     "start_time": "2024-06-18T10:28:48.560184",
     "status": "completed"
    },
    "tags": []
   },
   "outputs": [],
   "source": []
  },
  {
   "cell_type": "code",
   "execution_count": null,
   "id": "b500732f",
   "metadata": {
    "papermill": {
     "duration": 0.027118,
     "end_time": "2024-06-18T10:28:48.643734",
     "exception": false,
     "start_time": "2024-06-18T10:28:48.616616",
     "status": "completed"
    },
    "tags": []
   },
   "outputs": [],
   "source": []
  }
 ],
 "metadata": {
  "kaggle": {
   "accelerator": "none",
   "dataSources": [
    {
     "datasetId": 5180305,
     "sourceId": 8648587,
     "sourceType": "datasetVersion"
    }
   ],
   "dockerImageVersionId": 30732,
   "isGpuEnabled": false,
   "isInternetEnabled": true,
   "language": "python",
   "sourceType": "notebook"
  },
  "kernelspec": {
   "display_name": "Python 3",
   "language": "python",
   "name": "python3"
  },
  "language_info": {
   "codemirror_mode": {
    "name": "ipython",
    "version": 3
   },
   "file_extension": ".py",
   "mimetype": "text/x-python",
   "name": "python",
   "nbconvert_exporter": "python",
   "pygments_lexer": "ipython3",
   "version": "3.10.13"
  },
  "papermill": {
   "default_parameters": {},
   "duration": 128.42455,
   "end_time": "2024-06-18T10:28:49.696155",
   "environment_variables": {},
   "exception": null,
   "input_path": "__notebook__.ipynb",
   "output_path": "__notebook__.ipynb",
   "parameters": {},
   "start_time": "2024-06-18T10:26:41.271605",
   "version": "2.5.0"
  }
 },
 "nbformat": 4,
 "nbformat_minor": 5
}
